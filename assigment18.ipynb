{
  "nbformat": 4,
  "nbformat_minor": 0,
  "metadata": {
    "colab": {
      "name": "assigment18.ipynb",
      "version": "0.3.2",
      "views": {},
      "default_view": {},
      "provenance": []
    },
    "kernelspec": {
      "name": "python3",
      "display_name": "Python 3"
    }
  },
  "cells": [
    {
      "metadata": {
        "id": "j2QtQcm5E25e",
        "colab_type": "code",
        "colab": {
          "autoexec": {
            "startup": false,
            "wait_interval": 0
          }
        }
      },
      "cell_type": "code",
      "source": [
        " Create a numpy array with 10 elements of the shape(10,1) using np.random and find out the mean of the elements using basic numpy functions."
      ],
      "execution_count": 0,
      "outputs": []
    },
    {
      "metadata": {
        "id": "5ig7dhK4E4oh",
        "colab_type": "code",
        "colab": {
          "autoexec": {
            "startup": false,
            "wait_interval": 0
          },
          "base_uri": "https://localhost:8080/",
          "height": 204
        },
        "outputId": "f3f705cc-aa7b-465e-f989-cce58b28d7de",
        "executionInfo": {
          "status": "ok",
          "timestamp": 1530805149300,
          "user_tz": -330,
          "elapsed": 1302,
          "user": {
            "displayName": "suruchi jain",
            "photoUrl": "https://lh3.googleusercontent.com/a/default-user=s128",
            "userId": "104282324095124070805"
          }
        }
      },
      "cell_type": "code",
      "source": [
        "import numpy as np\n",
        "\n",
        "a=np.random.rand(10,1)\n",
        "print(a)\n",
        "print(\"mean=\",a.mean())\n"
      ],
      "execution_count": 1,
      "outputs": [
        {
          "output_type": "stream",
          "text": [
            "[[0.31276475]\n",
            " [0.00903405]\n",
            " [0.3711302 ]\n",
            " [0.24389534]\n",
            " [0.86146106]\n",
            " [0.88979905]\n",
            " [0.674369  ]\n",
            " [0.16806675]\n",
            " [0.26617316]\n",
            " [0.04552578]]\n",
            "mean= 0.3842219151605614\n"
          ],
          "name": "stdout"
        }
      ]
    },
    {
      "metadata": {
        "id": "KdSBZAcfGWqM",
        "colab_type": "code",
        "colab": {
          "autoexec": {
            "startup": false,
            "wait_interval": 0
          }
        }
      },
      "cell_type": "code",
      "source": [
        "Create a numpy array with 20 elements of the shape(20,1) using np.random find the variance and standard deviation of the elements\n"
      ],
      "execution_count": 0,
      "outputs": []
    },
    {
      "metadata": {
        "id": "G-R547EaGuAT",
        "colab_type": "code",
        "colab": {
          "autoexec": {
            "startup": false,
            "wait_interval": 0
          },
          "base_uri": "https://localhost:8080/",
          "height": 391
        },
        "outputId": "365b28bc-956e-4af3-ab43-d540978ceda0",
        "executionInfo": {
          "status": "ok",
          "timestamp": 1530805308498,
          "user_tz": -330,
          "elapsed": 1206,
          "user": {
            "displayName": "suruchi jain",
            "photoUrl": "https://lh3.googleusercontent.com/a/default-user=s128",
            "userId": "104282324095124070805"
          }
        }
      },
      "cell_type": "code",
      "source": [
        "import numpy as np\n",
        "\n",
        "a=np.random.rand(20,1)\n",
        "print(a)\n",
        "print(\"standard deviation=\",a.std())\n",
        "print(\"variance=\",a.var())\n"
      ],
      "execution_count": 2,
      "outputs": [
        {
          "output_type": "stream",
          "text": [
            "[[0.92257115]\n",
            " [0.29440746]\n",
            " [0.54391328]\n",
            " [0.448145  ]\n",
            " [0.06051317]\n",
            " [0.82843588]\n",
            " [0.42010788]\n",
            " [0.27200663]\n",
            " [0.77103198]\n",
            " [0.20650446]\n",
            " [0.35072803]\n",
            " [0.97543661]\n",
            " [0.81665583]\n",
            " [0.55362267]\n",
            " [0.23737534]\n",
            " [0.0740448 ]\n",
            " [0.02877051]\n",
            " [0.67635903]\n",
            " [0.25876143]\n",
            " [0.0828976 ]]\n",
            "standard deviation= 0.2968409039628922\n",
            "variance= 0.088114522265507\n"
          ],
          "name": "stdout"
        }
      ]
    },
    {
      "metadata": {
        "id": "jqaepvGBHAf3",
        "colab_type": "code",
        "colab": {
          "autoexec": {
            "startup": false,
            "wait_interval": 0
          }
        }
      },
      "cell_type": "code",
      "source": [
        " Create a numpy array A of shape(10,20) and B of shape (20,25) using np.random. Print the matrix which is the matrix multiplication of A and B. The shape of the new matrix should be (10,25). Using basic numpy math functions only find the sum of all the elements of the new matrix"
      ],
      "execution_count": 0,
      "outputs": []
    },
    {
      "metadata": {
        "id": "RCU4WXZpHB6o",
        "colab_type": "code",
        "colab": {
          "autoexec": {
            "startup": false,
            "wait_interval": 0
          },
          "base_uri": "https://localhost:8080/",
          "height": 935
        },
        "outputId": "01ac85d1-b422-4dc7-ffbc-bafe14231ddb",
        "executionInfo": {
          "status": "ok",
          "timestamp": 1530805380856,
          "user_tz": -330,
          "elapsed": 1088,
          "user": {
            "displayName": "suruchi jain",
            "photoUrl": "https://lh3.googleusercontent.com/a/default-user=s128",
            "userId": "104282324095124070805"
          }
        }
      },
      "cell_type": "code",
      "source": [
        "import numpy as np\n",
        "A=np.random.rand(10,20)\n",
        "B=np.random.rand(20,25)\n",
        "C=np.matmul(A,B)\n",
        "print(\"new matrix C=\",C)\n",
        "print(\"\")\n",
        "print(\"\")\n",
        "print(\"shape of C=\",C.shape)\n",
        "print(\"sum of elements=\",C.sum())"
      ],
      "execution_count": 3,
      "outputs": [
        {
          "output_type": "stream",
          "text": [
            "new matrix C= [[5.61630148 5.24117914 4.65225244 4.38415067 3.89071235 3.66628164\n",
            "  3.44162204 4.91899125 4.20655416 4.22822322 4.72029545 3.02998169\n",
            "  5.22961582 5.12223314 3.99206803 4.00166719 4.04350241 3.81317228\n",
            "  4.45156203 2.13671161 4.21869926 4.51858139 5.24255395 3.90698167\n",
            "  3.30965612]\n",
            " [5.89696767 4.93525722 5.09753022 3.89648885 4.2147277  3.978918\n",
            "  4.20672979 5.54996236 4.73562796 4.12831362 4.05000561 3.77527746\n",
            "  5.06977235 4.52797643 4.61129642 3.82295344 4.02386572 3.85044859\n",
            "  4.72742397 3.11258253 4.5221152  3.65850334 5.25810273 3.63890967\n",
            "  3.70767822]\n",
            " [4.84265791 4.98455119 3.99066837 3.88635946 3.29285487 3.42224421\n",
            "  2.99574593 4.30294366 3.26407649 3.68499456 4.66020739 3.11886941\n",
            "  4.05196485 4.43891151 3.39078585 3.7664838  3.94365509 2.8217518\n",
            "  3.77637571 2.30512007 4.84932597 3.14744127 4.44647042 3.430612\n",
            "  3.4534216 ]\n",
            " [4.90827184 4.09475229 4.08502401 3.88376565 3.48986557 3.39151078\n",
            "  3.32624817 4.57845937 4.0632917  4.6536167  3.93533695 3.26644428\n",
            "  4.59967613 4.61224873 3.81199489 3.62566594 3.56373276 4.26174139\n",
            "  3.94632509 2.39155227 3.6366514  4.20176485 4.64450433 4.1184495\n",
            "  3.91495907]\n",
            " [6.48258237 6.63678234 5.77767219 5.54390807 3.96865367 4.9647868\n",
            "  4.80235165 6.22670192 6.03703683 5.3035504  5.92963062 4.50199242\n",
            "  5.88488683 5.27711292 4.40370282 4.45954239 4.85899563 5.81769943\n",
            "  5.84175931 3.10511771 6.43240476 4.7198315  6.67239006 4.6782143\n",
            "  4.4672628 ]\n",
            " [5.92998839 4.92951694 5.11940044 4.05124579 4.72356285 3.49129789\n",
            "  4.14313516 5.57600581 4.54194225 4.238485   4.54608159 3.86298895\n",
            "  5.38440402 5.15396368 4.51718295 4.05533138 4.09772288 4.21074926\n",
            "  5.20317715 3.12321561 3.64356074 3.89390589 5.87346585 3.99275678\n",
            "  3.77615519]\n",
            " [5.93439537 5.93794095 5.66295072 4.64112109 4.07790623 4.44043027\n",
            "  4.14111286 5.69423081 5.41533917 4.21313396 5.44606774 4.08222368\n",
            "  5.60660478 5.20959511 4.51264059 4.20763101 4.29984134 4.23681053\n",
            "  5.12928987 3.26041747 5.08128854 4.13317529 5.95856235 4.29039248\n",
            "  3.88397952]\n",
            " [5.85098134 5.82408769 5.54824614 5.00748364 4.75685157 4.06941497\n",
            "  4.61572083 5.69423535 5.08008475 4.96000542 4.97185665 3.96070434\n",
            "  5.95658111 5.45708377 4.92630152 4.4544182  4.12637889 4.78969851\n",
            "  5.00323413 2.96489967 4.62834449 5.03043127 5.51904514 4.30870779\n",
            "  4.26108476]\n",
            " [5.81313751 5.06394792 5.01272444 3.61172826 3.68108313 4.64275917\n",
            "  4.17237042 5.62353831 5.01335232 4.97728496 4.50043993 4.09334227\n",
            "  4.7299124  5.15358358 4.14729455 4.03516348 4.11546236 4.53220834\n",
            "  4.64897956 2.99928384 5.34182963 3.80752101 5.25362913 4.27227681\n",
            "  4.43168207]\n",
            " [5.94482138 5.02198231 5.40848994 3.81639478 4.58555037 4.93590231\n",
            "  4.56248389 6.11464476 4.85445253 4.26793504 4.46642274 4.11040786\n",
            "  5.72946925 5.61214642 5.02733112 4.2992759  4.81048693 4.13668663\n",
            "  4.83262485 3.36355394 4.74867242 4.25999089 5.79993439 4.1582225\n",
            "  4.14364507]]\n",
            "\n",
            "\n",
            "shape of C= (10, 25)\n",
            "sum of elements= 1127.0781720144587\n"
          ],
          "name": "stdout"
        }
      ]
    },
    {
      "metadata": {
        "id": "p6AzA3HNHJwe",
        "colab_type": "code",
        "colab": {
          "autoexec": {
            "startup": false,
            "wait_interval": 0
          }
        }
      },
      "cell_type": "code",
      "source": [
        "Create a numpy array A of shape(10,1).Using the basic operations of the numpy array generate an array of shape(10,1) such that each element is the following function applied on each element of A.\n"
      ],
      "execution_count": 0,
      "outputs": []
    },
    {
      "metadata": {
        "id": "RbaKKsFZHRGw",
        "colab_type": "code",
        "colab": {
          "autoexec": {
            "startup": false,
            "wait_interval": 0
          },
          "base_uri": "https://localhost:8080/",
          "height": 54
        },
        "outputId": "4e96b612-3502-40ef-c536-25d821717e89",
        "executionInfo": {
          "status": "ok",
          "timestamp": 1530805446204,
          "user_tz": -330,
          "elapsed": 1039,
          "user": {
            "displayName": "suruchi jain",
            "photoUrl": "https://lh3.googleusercontent.com/a/default-user=s128",
            "userId": "104282324095124070805"
          }
        }
      },
      "cell_type": "code",
      "source": [
        "import numpy as np\n",
        "import math\n",
        "\n",
        "A=np.random.rand(10,1)\n",
        "#print(A)\n",
        "l=[]\n",
        "for x in A:\n",
        "  for y in x:\n",
        "    B=1 / (1 + math.exp(-y))\n",
        "    l.append(B)\n",
        "print(l)"
      ],
      "execution_count": 4,
      "outputs": [
        {
          "output_type": "stream",
          "text": [
            "[0.6442989886228099, 0.7083939081772544, 0.6758562207628788, 0.7131898437108293, 0.6117325901832287, 0.6627867793722311, 0.520795040860718, 0.6056725805667303, 0.6576740136747442, 0.713535013057966]\n"
          ],
          "name": "stdout"
        }
      ]
    }
  ]
}